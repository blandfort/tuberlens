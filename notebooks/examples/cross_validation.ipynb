{
 "cells": [
  {
   "cell_type": "markdown",
   "id": "0",
   "metadata": {},
   "source": [
    "# Cross Validation\n",
    "\n",
    "When you train a probe for a new concept or on a new model, it usually makes sense to first do a cross validation for determining which layer to use."
   ]
  },
  {
   "cell_type": "code",
   "execution_count": null,
   "id": "1",
   "metadata": {},
   "outputs": [],
   "source": [
    "from tuberlens.config import DATA_DIR, RESULTS_DIR\n",
    "from tuberlens.cross_validation import ChooseLayerConfig, choose_best_layer_via_cv\n",
    "from tuberlens.interfaces.probes import ProbeSpec, ProbeType\n",
    "\n",
    "\n",
    "#dataset_path = DATA_DIR / \"high-stakes\" / \"combined_deployment_22_04_25.jsonl\"\n",
    "dataset_path = DATA_DIR / \"deception\" / \"train_dataset.jsonl\"\n",
    "pos_class_label = \"deceptive\"\n",
    "neg_class_label = \"honest\"\n",
    "#pos_class_label = \"high-stakes\"\n",
    "#neg_class_label = \"low-stakes\"\n",
    "model_name = \"google/gemma-3n-E4B-it\"\n",
    "max_layer = 35\n",
    "\n",
    "config = ChooseLayerConfig(\n",
    "    model_name=model_name, #LOCAL_MODELS[model_name],\n",
    "    dataset_path=dataset_path,\n",
    "    max_samples=None,\n",
    "    cv_folds=4,\n",
    "    layers=list(range(0, max_layer, 5)),  # Use None to check all layers\n",
    "    batch_size=4,\n",
    "    output_dir=RESULTS_DIR / \"cross_validation\",\n",
    "    probe_spec=ProbeSpec(name=ProbeType.sklearn, hyperparams={}),\n",
    "    pos_class_label=pos_class_label,\n",
    "    neg_class_label=neg_class_label,\n",
    "    ending_tokens_to_ignore=5,\n",
    "    start_turn_index=1,\n",
    ")\n",
    "\n",
    "results = choose_best_layer_via_cv(config)"
   ]
  },
  {
   "cell_type": "code",
   "execution_count": null,
   "id": "2",
   "metadata": {},
   "outputs": [],
   "source": [
    "print(f\"Best layer: {results.best_layer} (accuracy: {results.best_layer_accuracy})\")\n",
    "print(f\"Layer mean accuracies: {results.results.layer_mean_accuracies}\")"
   ]
  }
 ],
 "metadata": {
  "kernelspec": {
   "display_name": ".venv",
   "language": "python",
   "name": "python3"
  },
  "language_info": {
   "codemirror_mode": {
    "name": "ipython",
    "version": 3
   },
   "file_extension": ".py",
   "mimetype": "text/x-python",
   "name": "python",
   "nbconvert_exporter": "python",
   "pygments_lexer": "ipython3",
   "version": "3.12.8"
  }
 },
 "nbformat": 4,
 "nbformat_minor": 5
}
