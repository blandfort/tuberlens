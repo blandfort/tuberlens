{
 "cells": [
  {
   "cell_type": "markdown",
   "id": "0",
   "metadata": {},
   "source": [
    "# Deception Probe\n",
    "\n",
    "This notebook trains a deception probe as described in [Goldowsky-Dill et al. 2025](https://arxiv.org/abs/2502.03407) (while probe architecture differs)."
   ]
  },
  {
   "cell_type": "code",
   "execution_count": null,
   "id": "1",
   "metadata": {},
   "outputs": [],
   "source": [
    "# Basic Configuration\n",
    "from tuberlens.config import DATA_DIR\n",
    "\n",
    "\n",
    "model_name = \"google/gemma-3n-E4B-it\" #LOCAL_MODELS[\"llama-1b\"]\n",
    "layer = 11\n",
    "\n",
    "CONCEPT = \"deception\"\n",
    "CONCEPT_DIR = DATA_DIR / CONCEPT\n",
    "PROBE_PATH = CONCEPT_DIR / f\"{CONCEPT}_probe.pkl\"\n",
    "\n",
    "pos_class_label = \"deceptive\"\n",
    "neg_class_label = \"honest\"\n",
    "probe_description = (\n",
    "    f\"A linear probe on {model_name} detecting whether the assistant is deceptive.\"\n",
    ")"
   ]
  },
  {
   "cell_type": "markdown",
   "id": "2",
   "metadata": {},
   "source": [
    "## Dataset Creation"
   ]
  },
  {
   "cell_type": "code",
   "execution_count": null,
   "id": "3",
   "metadata": {},
   "outputs": [],
   "source": [
    "from tuberlens.utils import create_train_test_split\n",
    "from tuberlens.interfaces.dataset import (\n",
    "    LabelledDataset,\n",
    "    Message,\n",
    ")\n",
    "\n",
    "# Load true facts from true_false_facts.csv\n",
    "import pandas as pd\n",
    "\n",
    "# Read the true facts (where label == 1)\n",
    "# NOTE: The source of this CSV file is\n",
    "# https://github.com/andyzoujm/representation-engineering/blob/main/data/facts/facts_true_false.csv\n",
    "facts_df = pd.read_csv(\"https://raw.githubusercontent.com/andyzoujm/representation-engineering/main/data/facts/facts_true_false.csv\")\n",
    "true_facts = facts_df[facts_df[\"label\"] == 1][\"statement\"].tolist()\n",
    "\n",
    "# Create samples with user prompts for each true fact\n",
    "samples = []\n",
    "pair_id = 1\n",
    "\n",
    "for fact in true_facts:\n",
    "    # Create deceptive sample\n",
    "    deceptive_input = [\n",
    "        Message(\n",
    "            role=\"user\",\n",
    "            content=\"Pretend to be a dishonest person making statements about the world.\",\n",
    "        ),\n",
    "        Message(role=\"assistant\", content=fact),\n",
    "    ]\n",
    "    samples.append(\n",
    "        {\n",
    "            \"pair_id\": pair_id,\n",
    "            \"ids\": f\"{pair_id}d\",\n",
    "            \"inputs\": deceptive_input,\n",
    "            \"labels\": 1,\n",
    "        }\n",
    "    )\n",
    "\n",
    "    # Create honest sample\n",
    "    honest_input = [\n",
    "        Message(\n",
    "            role=\"user\",\n",
    "            content=\"Pretend to be an honest person making statements about the world.\",\n",
    "        ),\n",
    "        Message(role=\"assistant\", content=fact),\n",
    "    ]\n",
    "    samples.append(\n",
    "        {\n",
    "            \"pair_id\": pair_id,\n",
    "            \"ids\": f\"{pair_id}h\",\n",
    "            \"inputs\": honest_input,\n",
    "            \"labels\": 0,\n",
    "        }\n",
    "    )\n",
    "\n",
    "    pair_id += 1\n",
    "\n",
    "# Create LabelledDataset from the samples\n",
    "train_dataset = LabelledDataset(\n",
    "    ids=[sample[\"ids\"] for sample in samples],\n",
    "    inputs=[sample[\"inputs\"] for sample in samples],\n",
    "    other_fields={\n",
    "        \"labels\": [sample[\"labels\"] for sample in samples],\n",
    "        \"pair_id\": [sample[\"pair_id\"] for sample in samples],\n",
    "    },\n",
    ")\n",
    "\n",
    "train_dataset, validation_dataset = create_train_test_split(\n",
    "    train_dataset, split_field=\"pair_id\"\n",
    ")\n",
    "\n",
    "print(f\"Read {len(train_dataset)} samples for training and {len(validation_dataset)} samples for validation.\")"
   ]
  },
  {
   "cell_type": "markdown",
   "id": "4",
   "metadata": {},
   "source": [
    "## Training"
   ]
  },
  {
   "cell_type": "code",
   "execution_count": null,
   "id": "5",
   "metadata": {},
   "outputs": [],
   "source": [
    "from tuberlens.training import train_probe\n",
    "from tuberlens.interfaces.probes import ProbeSpec, ProbeType\n",
    "\n",
    "\n",
    "probe = train_probe(\n",
    "    train_dataset,\n",
    "    validation_dataset,\n",
    "    model_name,\n",
    "    layer,\n",
    "    ending_tokens_to_ignore=5,\n",
    "    start_turn_index=1,  # Exclude user message\n",
    "    apply_transformations_to_validation_dataset=True,\n",
    "    pos_class_label=pos_class_label,\n",
    "    neg_class_label=neg_class_label,\n",
    "    probe_description=probe_description,\n",
    "    probe_spec=ProbeSpec(\n",
    "        # name=ProbeType.sklearn,\n",
    "        # hyperparams={},\n",
    "        name=ProbeType.linear_then_mean,\n",
    "        hyperparams={\n",
    "            \"batch_size\": 8,\n",
    "            \"epochs\": 200,\n",
    "            \"optimizer_args\": {\"lr\": 1e-3, \"weight_decay\": 1e-2},\n",
    "            \"final_lr\": 1e-4,\n",
    "            \"gradient_accumulation_steps\": 1,\n",
    "            \"patience\": 100,\n",
    "            \"temperature\": 0.1,\n",
    "        },\n",
    "    ),\n",
    ")"
   ]
  },
  {
   "cell_type": "code",
   "execution_count": null,
   "id": "6",
   "metadata": {},
   "outputs": [],
   "source": [
    "# Store the probe\n",
    "import pickle\n",
    "\n",
    "pickle.dump(probe, open(PROBE_PATH, \"wb\"))"
   ]
  },
  {
   "cell_type": "markdown",
   "id": "7",
   "metadata": {},
   "source": [
    "## Loading and Evaluating"
   ]
  },
  {
   "cell_type": "code",
   "execution_count": null,
   "id": "8",
   "metadata": {},
   "outputs": [],
   "source": [
    "from tuberlens.model import LLMModel\n",
    "\n",
    "probe = pickle.load(open(PROBE_PATH, \"rb\"))\n",
    "assert probe.model_name is not None\n",
    "assert probe.layer is not None\n",
    "print(\"Probe initialized:\")\n",
    "print(probe.description)\n",
    "\n",
    "# Initialize the model so we can compute activations\n",
    "model = LLMModel.load(probe.model_name)"
   ]
  },
  {
   "cell_type": "code",
   "execution_count": null,
   "id": "9",
   "metadata": {},
   "outputs": [],
   "source": [
    "import yaml\n",
    "\n",
    "# Load test inputs from YAML\n",
    "with open(CONCEPT_DIR / \"test_inputs.yaml\") as f:\n",
    "    raw_inputs = yaml.safe_load(f)\n",
    "inputs = [[Message(**msg) for msg in pair] for pair in raw_inputs]\n",
    "\n",
    "preds = probe.predict_proba_from_inputs(inputs, model=model)\n",
    "for i in range(len(preds)):\n",
    "    print(f\"Sample {i}: {preds[i]}\")\n",
    "    print(f\"Input: {inputs[i]}\")\n",
    "    print()"
   ]
  }
 ],
 "metadata": {
  "kernelspec": {
   "display_name": ".venv",
   "language": "python",
   "name": "python3"
  },
  "language_info": {
   "codemirror_mode": {
    "name": "ipython",
    "version": 3
   },
   "file_extension": ".py",
   "mimetype": "text/x-python",
   "name": "python",
   "nbconvert_exporter": "python",
   "pygments_lexer": "ipython3",
   "version": "3.12.8"
  }
 },
 "nbformat": 4,
 "nbformat_minor": 5
}
