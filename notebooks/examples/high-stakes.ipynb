{
 "cells": [
  {
   "cell_type": "markdown",
   "id": "0",
   "metadata": {},
   "source": [
    "# High-stakes Probe\n",
    "\n",
    "This notebook trains a high-stakes probe as described in [McKenzie et al. 2025](https://arxiv.org/abs/2506.10805v2)."
   ]
  },
  {
   "cell_type": "code",
   "execution_count": null,
   "id": "1",
   "metadata": {},
   "outputs": [],
   "source": [
    "# Basic Configuration\n",
    "from tuberlens.config import DATA_DIR, LOCAL_MODELS\n",
    "\n",
    "\n",
    "model_name = LOCAL_MODELS[\"llama-1b\"]\n",
    "layer = 11\n",
    "\n",
    "CONCEPT = \"high-stakes\"\n",
    "CONCEPT_DIR = DATA_DIR / CONCEPT\n",
    "PROBE_PATH = CONCEPT_DIR / f\"{CONCEPT}_probe.pkl\"\n",
    "\n",
    "pos_class_label = \"high-stakes\"\n",
    "neg_class_label = \"low-stakes\"\n",
    "probe_description = f\"A linear probe on {model_name} detecting whether the conversation is high-stakes.\""
   ]
  },
  {
   "cell_type": "markdown",
   "id": "2",
   "metadata": {},
   "source": [
    "## Dataset Creation"
   ]
  },
  {
   "cell_type": "code",
   "execution_count": null,
   "id": "3",
   "metadata": {},
   "outputs": [],
   "source": [
    "# Simplified dataset (included in this repo)\n",
    "from tuberlens.utils import create_train_test_split\n",
    "from tuberlens.interfaces.dataset import LabelledDataset\n",
    "\n",
    "stakes_dataset = CONCEPT_DIR / \"combined_deployment_22_04_25.jsonl\"\n",
    "dataset = LabelledDataset.load_from(stakes_dataset, pos_class_label=pos_class_label, neg_class_label=neg_class_label)\n",
    "train_dataset, validation_dataset = create_train_test_split(\n",
    "    dataset, split_field=\"pair_id\"\n",
    ")\n",
    "\n",
    "print(f\"Read {len(train_dataset)} samples for training and {len(validation_dataset)} samples for validation.\")"
   ]
  },
  {
   "cell_type": "code",
   "execution_count": null,
   "id": "4",
   "metadata": {},
   "outputs": [],
   "source": [
    "# Alternative: Use the original dataset\n",
    "# (link can be found in https://github.com/Arrrlex/models-under-pressure/tree/main)\n",
    "from tuberlens.interfaces.dataset import download_and_load_dataset\n",
    "\n",
    "# URLs for the datasets\n",
    "train_url = \"https://pub-fd16e959a4f14ca48765b437c9425ba6.r2.dev/training/prompts_4x/train.jsonl\"\n",
    "test_url = \"https://pub-fd16e959a4f14ca48765b437c9425ba6.r2.dev/training/prompts_4x/test.jsonl\"\n",
    "\n",
    "train_dataset = download_and_load_dataset(train_url, pos_class_label=pos_class_label, neg_class_label=neg_class_label)\n",
    "validation_dataset = download_and_load_dataset(test_url, pos_class_label=pos_class_label, neg_class_label=neg_class_label)\n",
    "\n",
    "print(f\"Read {len(train_dataset)} samples for training and {len(validation_dataset)} samples for validation.\")"
   ]
  },
  {
   "cell_type": "markdown",
   "id": "5",
   "metadata": {},
   "source": [
    "## Training"
   ]
  },
  {
   "cell_type": "code",
   "execution_count": null,
   "id": "6",
   "metadata": {},
   "outputs": [],
   "source": [
    "from tuberlens.training import train_probe\n",
    "from tuberlens.interfaces.probes import ProbeSpec, ProbeType\n",
    "\n",
    "\n",
    "probe = train_probe(\n",
    "    train_dataset,\n",
    "    validation_dataset,\n",
    "    model_name,\n",
    "    layer,\n",
    "    # start_turn_index=0,  # Include system and user message\n",
    "    pos_class_label=pos_class_label,\n",
    "    neg_class_label=neg_class_label,\n",
    "    probe_description=probe_description,\n",
    "    probe_spec=ProbeSpec(\n",
    "        name=ProbeType.linear_then_softmax,\n",
    "        hyperparams={},\n",
    "    ),\n",
    ")"
   ]
  },
  {
   "cell_type": "code",
   "execution_count": null,
   "id": "7",
   "metadata": {},
   "outputs": [],
   "source": [
    "# Store the probe\n",
    "import pickle\n",
    "\n",
    "pickle.dump(probe, open(PROBE_PATH, \"wb\"))"
   ]
  },
  {
   "cell_type": "markdown",
   "id": "8",
   "metadata": {},
   "source": [
    "## Loading and Evaluating"
   ]
  },
  {
   "cell_type": "code",
   "execution_count": null,
   "id": "9",
   "metadata": {},
   "outputs": [],
   "source": [
    "import pickle\n",
    "\n",
    "from tuberlens.model import LLMModel\n",
    "\n",
    "probe = pickle.load(open(PROBE_PATH, \"rb\"))\n",
    "assert probe.model_name is not None\n",
    "assert probe.layer is not None\n",
    "print(\"Probe initialized:\")\n",
    "print(probe.description)\n",
    "\n",
    "# Initialize the model so we can compute activations\n",
    "model = LLMModel.load(probe.model_name)"
   ]
  },
  {
   "cell_type": "code",
   "execution_count": null,
   "id": "10",
   "metadata": {},
   "outputs": [],
   "source": [
    "import yaml\n",
    "from tuberlens.interfaces.dataset import Message\n",
    "\n",
    "# Load test inputs from YAML\n",
    "with open(CONCEPT_DIR / \"test_inputs.yaml\") as f:\n",
    "    raw_inputs = yaml.safe_load(f)\n",
    "inputs = [[Message(**msg) for msg in pair] for pair in raw_inputs]\n",
    "\n",
    "preds = probe.predict_proba_from_inputs(inputs, model=model)\n",
    "for i in range(len(preds)):\n",
    "    print(f\"Sample {i}: {preds[i]}\")\n",
    "    print(f\"Input: {inputs[i]}\")\n",
    "    print()"
   ]
  },
  {
   "cell_type": "markdown",
   "id": "11",
   "metadata": {},
   "source": [
    "### Using Proper Evaluation Datasets\n",
    "\n",
    "Here we use the evaluation datasets from the original paper. This lets us compare performance of our trained probe to the one from the paper."
   ]
  },
  {
   "cell_type": "code",
   "execution_count": null,
   "id": "12",
   "metadata": {},
   "outputs": [],
   "source": [
    "from tuberlens.interfaces.dataset import download_and_load_dataset\n",
    "\n",
    "USE_TEST = False\n",
    "\n",
    "# URLs as specified in the readme of https://github.com/Arrrlex/models-under-pressure\n",
    "# (We are selecting the balanced versions as in the paper)\n",
    "EVAL_DATASETS_URLS = {\n",
    "    \"dev\": {\n",
    "        \"anthropic\": \"https://pub-fd16e959a4f14ca48765b437c9425ba6.r2.dev/evals/dev/anthropic_balanced_apr_23.jsonl\",\n",
    "        \"mt\": \"https://pub-fd16e959a4f14ca48765b437c9425ba6.r2.dev/evals/dev/mt_balanced_apr_30.jsonl\",\n",
    "        \"mts\": \"https://pub-fd16e959a4f14ca48765b437c9425ba6.r2.dev/evals/dev/mts_balanced_apr_22.jsonl\",\n",
    "        \"toolace\": \"https://pub-fd16e959a4f14ca48765b437c9425ba6.r2.dev/evals/dev/toolace_balanced_apr_22.jsonl\",\n",
    "    },\n",
    "    \"test\": {\n",
    "        \"anthropic\": \"https://pub-fd16e959a4f14ca48765b437c9425ba6.r2.dev/evals/test/anthropic_test_balanced_apr_23.jsonl\",\n",
    "        \"mt\": \"https://pub-fd16e959a4f14ca48765b437c9425ba6.r2.dev/evals/test/mt_test_balanced_apr_30.jsonl\",\n",
    "        \"mts\": \"https://pub-fd16e959a4f14ca48765b437c9425ba6.r2.dev/evals/test/mts_test_balanced_apr_22.jsonl\",\n",
    "        \"toolace\": \"https://pub-fd16e959a4f14ca48765b437c9425ba6.r2.dev/evals/test/toolace_test_balanced_apr_22.jsonl\",\n",
    "        \"mental_health\": \"https://pub-fd16e959a4f14ca48765b437c9425ba6.r2.dev/evals/test/mental_health_test_balanced_apr_22.jsonl\",\n",
    "        \"redteaming\": \"https://pub-fd16e959a4f14ca48765b437c9425ba6.r2.dev/evals/test/aya_redteaming_balanced.csv\",\n",
    "    }\n",
    "} \n",
    "\n",
    "# First we download all evaluation datasets\n",
    "split = \"test\" if USE_TEST else \"dev\"\n",
    "eval_datasets = {name: download_and_load_dataset(url, pos_class_label=pos_class_label, neg_class_label=neg_class_label)\n",
    "                 for name, url in EVAL_DATASETS_URLS[split].items()}\n",
    "\n",
    "# Print dataset sizes\n",
    "for name, dataset in eval_datasets.items():\n",
    "    print(f\"{name}: {len(dataset)} samples\")\n"
   ]
  },
  {
   "cell_type": "code",
   "execution_count": null,
   "id": "13",
   "metadata": {},
   "outputs": [],
   "source": [
    "from tuberlens.evaluation import get_performances\n",
    "from tuberlens.interfaces.dataset import subsample_balanced_subset\n",
    "\n",
    "max_samples = 100  # Downsample for faster evaluation (set to None for full evaluation)\n",
    "performances = get_performances(probe, {name: subsample_balanced_subset(dataset, n_per_class=max_samples//2) if max_samples is not None else dataset\n",
    "                                        for name, dataset in eval_datasets.items()})\n",
    "performances\n"
   ]
  },
  {
   "cell_type": "markdown",
   "id": "14",
   "metadata": {},
   "source": [
    "### Direct Probing of HuggingFace Models"
   ]
  },
  {
   "cell_type": "code",
   "execution_count": null,
   "id": "15",
   "metadata": {},
   "outputs": [],
   "source": [
    "# Verifying that the probe works with activation tensors\n",
    "\n",
    "# NOTE To apply the probe to a HF transformer directly, get the activations tensor\n",
    "# from activations before layer norm. Either process one item at a time or make sure\n",
    "# to apply the attention mask.\n",
    "from tuberlens.probes.pytorch_probes import filter_activations_by_turns\n",
    "\n",
    "for inp in inputs:\n",
    "    activations = model.get_activations([inp], layer=probe.layer)\n",
    "\n",
    "    activations = filter_activations_by_turns(\n",
    "        activations=activations,\n",
    "        inputs=[inp],\n",
    "        model=model,\n",
    "        start_turn_index=probe.start_turn_index,\n",
    "        end_turn_index=probe.end_turn_index,\n",
    "    )\n",
    "    print(probe.predict_proba_from_activations_tensor(activations.activations[0]))"
   ]
  }
 ],
 "metadata": {
  "kernelspec": {
   "display_name": ".venv",
   "language": "python",
   "name": "python3"
  },
  "language_info": {
   "codemirror_mode": {
    "name": "ipython",
    "version": 3
   },
   "file_extension": ".py",
   "mimetype": "text/x-python",
   "name": "python",
   "nbconvert_exporter": "python",
   "pygments_lexer": "ipython3",
   "version": "3.12.8"
  }
 },
 "nbformat": 4,
 "nbformat_minor": 5
}
